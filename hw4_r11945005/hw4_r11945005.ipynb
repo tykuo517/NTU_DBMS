{
 "cells": [
  {
   "cell_type": "code",
   "execution_count": 1,
   "metadata": {},
   "outputs": [],
   "source": [
    "import csv\n",
    "import json\n",
    "import mysql.connector\n",
    "\n",
    "# please modify hw4_config.json to your own config file\n",
    "with open('hw4_config.json') as f:\n",
    "    config = json.load(f)\n",
    "\n",
    "host = config['host']\n",
    "user = config['user']\n",
    "passwd = config['passwd']\n",
    "dbms_student_path = config['dbms_student_path']\n",
    "new_student_path = config['new_student_path']\n",
    "\n",
    "mydb = mysql.connector.connect(host=host, user=user, passwd=passwd)\n",
    "mycursor = mydb.cursor()\n",
    "mycursor.execute(\"drop database if exists DB_class\")\n",
    "mycursor.execute(\"create database DB_class\")\n",
    "mycursor.execute(\"use DB_class\")"
   ]
  },
  {
   "cell_type": "markdown",
   "metadata": {},
   "source": [
    "## 1-1: Input data into student table"
   ]
  },
  {
   "cell_type": "code",
   "execution_count": 2,
   "metadata": {},
   "outputs": [],
   "source": [
    "mycursor.execute(\"drop table if exists student\")\n",
    "mycursor.execute(\"create table student(身份 varchar(10), 系所 varchar(10), 年級 varchar(10), 學號 varchar(10), 姓名 varchar(40), 信箱 varchar(40), 班別 varchar(40))\")\n",
    "\n",
    "first=True\n",
    "with open('DBMS_student_list.csv', encoding=\"utf-8\") as csvfile:\n",
    "    rows = csv.reader(csvfile)\n",
    "    for row in rows:\n",
    "        if first==False:\n",
    "            sql = \"insert into student values(%s,%s,%s,%s,%s,%s,%s)\"\n",
    "            val = (row[0],row[1],row[2],row[3],row[4],row[5],row[6])\n",
    "            mycursor.execute(sql,val)\n",
    "        first=False\n",
    "            "
   ]
  },
  {
   "cell_type": "markdown",
   "metadata": {},
   "source": [
    "## 1-2: Read the information about yourself"
   ]
  },
  {
   "cell_type": "code",
   "execution_count": 3,
   "metadata": {},
   "outputs": [
    {
     "name": "stdout",
     "output_type": "stream",
     "text": [
      "('學生', '生醫電資所', '1', 'R11945005', '郭庭沂 (KUO,TING-YI)', 'r11945005@ntu.edu.tw', '資料庫系統-從SQL到NoSQL (EE5178)')\n"
     ]
    }
   ],
   "source": [
    "mycursor.execute(\"select * from student where 學號='R11945005'\")\n",
    "for i in mycursor:\n",
    "    print(i)"
   ]
  },
  {
   "cell_type": "markdown",
   "metadata": {},
   "source": [
    "## 1-3: Update your own value of the \"身份\" column "
   ]
  },
  {
   "cell_type": "code",
   "execution_count": 4,
   "metadata": {},
   "outputs": [
    {
     "name": "stdout",
     "output_type": "stream",
     "text": [
      "('特優生', '生醫電資所', '1', 'R11945005', '郭庭沂 (KUO,TING-YI)', 'r11945005@ntu.edu.tw', '資料庫系統-從SQL到NoSQL (EE5178)')\n"
     ]
    }
   ],
   "source": [
    "mycursor.execute(\"update student set 身份='特優生' where 學號='R11945005'\")\n",
    "\n",
    "mycursor.execute(\"select * from student where 學號='R11945005'\")\n",
    "for i in mycursor:\n",
    "    print(i)\n",
    "    "
   ]
  },
  {
   "cell_type": "markdown",
   "metadata": {},
   "source": [
    "## 1-4: Insert three new students "
   ]
  },
  {
   "cell_type": "code",
   "execution_count": 5,
   "metadata": {},
   "outputs": [],
   "source": [
    "first=True\n",
    "with open('new_student_list.csv', encoding=\"utf-8\") as csvfile:\n",
    "    rows = csv.reader(csvfile)\n",
    "    for row in rows:\n",
    "        if first==False:\n",
    "            sql = \"insert into student values(%s,%s,%s,%s,%s,%s,%s)\"\n",
    "            val = (row[0],row[1],row[2],row[3],row[4],row[5],row[6])\n",
    "            mycursor.execute(sql,val)\n",
    "        first=False\n",
    "            \n",
    "    "
   ]
  },
  {
   "cell_type": "markdown",
   "metadata": {},
   "source": [
    "## 1-5: Prepared select statement "
   ]
  },
  {
   "cell_type": "code",
   "execution_count": 6,
   "metadata": {
    "scrolled": true
   },
   "outputs": [
    {
     "name": "stdout",
     "output_type": "stream",
     "text": [
      "('旁聽生', '電機所', '2', 'R10123456', '小紅', 'r10123456@ntu.edu.tw', '資料庫系統-從SQL到NoSQL (EE5178)')\n",
      "('學生', '物理系', '3', 'B09987653', '小黃', 'b09987653@ntu.edu.tw', '資料庫系統-從SQL到NoSQL (EE5178)')\n",
      "('觀察者', '電信所', '1', 'R11123001', '小綠', 'r11123001@ntu.edu.tw', '資料庫系統-從SQL到NoSQL (EE5178)')\n"
     ]
    }
   ],
   "source": [
    "mydb.cursor(prepared=True)\n",
    "\n",
    "stmt = \"select * from student where 學號=%s\"\n",
    "mycursor.execute(stmt,('R10123456',))\n",
    "for i in mycursor:\n",
    "    print(i)\n",
    "mycursor.execute(stmt,('B09987653',))\n",
    "for i in mycursor:\n",
    "    print(i)\n",
    "mycursor.execute(stmt,('R11123001',))\n",
    "for i in mycursor:\n",
    "    print(i)\n"
   ]
  },
  {
   "cell_type": "markdown",
   "metadata": {},
   "source": [
    "## 1-6: Group information"
   ]
  },
  {
   "cell_type": "code",
   "execution_count": 7,
   "metadata": {
    "scrolled": true
   },
   "outputs": [
    {
     "name": "stdout",
     "output_type": "stream",
     "text": [
      "('學生', '生醫電資所', '1', 'R10945002', '林柏詠 (LIN, BO-YONG)', 'r10945002@ntu.edu.tw', '資料庫系統-從SQL到NoSQL (EE5178)', 8, 1)\n",
      "('特優生', '生醫電資所', '1', 'R11945005', '郭庭沂 (KUO,TING-YI)', 'r11945005@ntu.edu.tw', '資料庫系統-從SQL到NoSQL (EE5178)', 8, 0)\n",
      "('學生', '生醫電資所', '1', 'R11945018', '曾于瑄 (YU-HSUAN TSENG)', 'r11945018@ntu.edu.tw', '資料庫系統-從SQL到NoSQL (EE5178)', 8, 0)\n",
      "('學生', '生醫電資所', '1', 'R11945044', '張瑜倢 (ZHANG, YU-JIE)', 'r11945044@ntu.edu.tw', '資料庫系統-從SQL到NoSQL (EE5178)', 8, 0)\n"
     ]
    }
   ],
   "source": [
    "mycursor.execute(\"alter table student add column final_group int default 0\")\n",
    "mycursor.execute(\"alter table student add column final_captain int default 0\")\n",
    "mycursor.execute(\"update student set final_group=8 where 學號 in ('R10945002','R11945005','R11945044','R11945018')\")\n",
    "mycursor.execute(\"update student set final_captain=1 where 學號='R10945002'\")\n",
    "mycursor.execute(\"select * from student where final_group=8\")\n",
    "for i in mycursor:\n",
    "    print(i)\n",
    "\n",
    "mydb.commit()"
   ]
  }
 ],
 "metadata": {
  "kernelspec": {
   "display_name": "DBMS",
   "language": "python",
   "name": "dbms"
  },
  "language_info": {
   "codemirror_mode": {
    "name": "ipython",
    "version": 3
   },
   "file_extension": ".py",
   "mimetype": "text/x-python",
   "name": "python",
   "nbconvert_exporter": "python",
   "pygments_lexer": "ipython3",
   "version": "3.8.16"
  }
 },
 "nbformat": 4,
 "nbformat_minor": 2
}
