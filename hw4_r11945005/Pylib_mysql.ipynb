{
 "cells": [
  {
   "cell_type": "markdown",
   "metadata": {},
   "source": [
    "# Access database from Python mysql-connector\n",
    "\n",
    "* (if you haven't done so) install jupyter and learn how to use jupyter\n",
    "* install python SQL access modules\n",
    "    * to access mysql: pip install mysql-connector-python==8.0.33\n",
    "    \n"
   ]
  },
  {
   "cell_type": "code",
   "execution_count": 1,
   "metadata": {
    "scrolled": false
   },
   "outputs": [
    {
     "name": "stdout",
     "output_type": "stream",
     "text": [
      "Before show databases\n",
      "('db_class',)\n",
      "('information_schema',)\n",
      "('moviedb',)\n",
      "('mysql',)\n",
      "('performance_schema',)\n",
      "('sakila',)\n",
      "('shoppingdb',)\n",
      "('sys',)\n",
      "('world',)\n",
      "('我們',)\n",
      "Before show tables\n",
      "('account',)\n",
      "('company',)\n",
      "('follow',)\n",
      "('orderdetails',)\n",
      "('orderlist',)\n",
      "('person',)\n",
      "('produce',)\n",
      "('producer',)\n",
      "('product',)\n",
      "('review',)\n",
      "('self',)\n",
      "('shoppingcart',)\n",
      "('student',)\n"
     ]
    }
   ],
   "source": [
    "# Usage I: Connect to mySQL without using specific databases\n",
    "import mysql.connector\n",
    "\n",
    "\n",
    "mydb = mysql.connector.connect(host=\"127.0.0.1\", user=\"root\", passwd=\"00004158\")\n",
    "\n",
    "mycursor = mydb.cursor()\n",
    "\n",
    "print(\"Before show databases\")\n",
    "mycursor.execute(\"show databases\")\n",
    "for i in mycursor:\n",
    "    print(i)\n",
    "    \n",
    "print(\"Before show tables\")\n",
    "mycursor.execute(\"use shoppingdb\")\n",
    "mycursor.execute(\"show tables\")\n",
    "for i in mycursor:\n",
    "    print(i)"
   ]
  },
  {
   "cell_type": "code",
   "execution_count": 2,
   "metadata": {},
   "outputs": [
    {
     "name": "stdout",
     "output_type": "stream",
     "text": [
      "(1, 1, 'Taiwan', 'Taipei')\n",
      "(2, 1, 'USA', 'California')\n"
     ]
    }
   ],
   "source": [
    "mycursor.execute(\"use shoppingdb\")\n",
    "mycursor.execute(\"SELECT * FROM OrderList WHERE personID=1 AND (Nation='Taiwan' OR Nation='USA') AND NOT City='Taichung'\")\n",
    "for i in mycursor:\n",
    "    print(i)\n"
   ]
  },
  {
   "cell_type": "code",
   "execution_count": 3,
   "metadata": {},
   "outputs": [
    {
     "name": "stdout",
     "output_type": "stream",
     "text": [
      "Before mysql\n",
      "(1, 1, 'Taiwan', 'Taipei')\n",
      "(2, 1, 'USA', 'California')\n"
     ]
    }
   ],
   "source": [
    "# Usage II: connect to mySQL and use a specific database directly \n",
    "import mysql.connector\n",
    "\n",
    "print(\"Before mysql\")\n",
    "mydbcon = mysql.connector.connect(host=\"localhost\", user=\"root\", passwd=\"00004158\", database=\"shoppingdb\" )\n",
    "\n",
    "mycursor = mydbcon.cursor()\n",
    "mycursor.execute(\"SELECT * FROM OrderList WHERE personID=1 AND (Nation='Taiwan' OR Nation='USA') AND NOT City='Taichung'\")\n",
    "\n",
    "# Then you can consume your data in a for loop\n",
    "for i in mycursor:\n",
    "    print(i)\n",
    "    \n"
   ]
  },
  {
   "cell_type": "code",
   "execution_count": 4,
   "metadata": {},
   "outputs": [
    {
     "name": "stdout",
     "output_type": "stream",
     "text": [
      "(1, 1, 'Taiwan', 'Taipei')\n"
     ]
    }
   ],
   "source": [
    "# you can also fetch the rows one by one by yourself\n",
    "mycursor.execute(\"SELECT * FROM OrderList WHERE personID=1 AND (Nation='Taiwan' OR Nation='USA') AND NOT City='Taichung'\")\n",
    "one_row = mycursor.fetchone()\n",
    "print(one_row)"
   ]
  },
  {
   "cell_type": "code",
   "execution_count": 5,
   "metadata": {},
   "outputs": [
    {
     "name": "stdout",
     "output_type": "stream",
     "text": [
      "[(1, 'apple', 1, 3), (1, 'banana', 2, 2), (1, 'papaya', 2, 2), (2, 'papaya', 2, 1), (3, 'banana', 2, 2), (4, 'banana', 2, 2)]\n"
     ]
    }
   ],
   "source": [
    "# you can also put all your results into a big data area, and do the processing your self.\n",
    "# However, this may results in the copying of large amount of data, and waste of large \n",
    "# memory area if the data you retrieve from database is big.  \n",
    "# So use this very careful, only if you do what you are doing\n",
    "\n",
    "# clean up all data in the cursor, if any left\n",
    "for _ in mycursor:\n",
    "    pass\n",
    "\n",
    "mycursor.execute(\"select * from OrderDetails\")\n",
    "result = mycursor.fetchall()\n",
    "print(result)\n"
   ]
  },
  {
   "cell_type": "code",
   "execution_count": null,
   "metadata": {},
   "outputs": [],
   "source": []
  }
 ],
 "metadata": {
  "kernelspec": {
   "display_name": "DBMS",
   "language": "python",
   "name": "dbms"
  },
  "language_info": {
   "codemirror_mode": {
    "name": "ipython",
    "version": 3
   },
   "file_extension": ".py",
   "mimetype": "text/x-python",
   "name": "python",
   "nbconvert_exporter": "python",
   "pygments_lexer": "ipython3",
   "version": "3.8.16"
  }
 },
 "nbformat": 4,
 "nbformat_minor": 2
}
