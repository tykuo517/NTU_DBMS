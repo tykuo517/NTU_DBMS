{
 "cells": [
  {
   "cell_type": "markdown",
   "metadata": {},
   "source": [
    "# Access database from Python mysql-connector\n",
    "\n",
    "* (if you haven't done so) install jupyter and learn how to use jupyter\n",
    "* install python SQL access modules\n",
    "    * to access mysql: pip install mysql-connector-python==8.0.33\n",
    "    \n"
   ]
  },
  {
   "cell_type": "code",
   "execution_count": 1,
   "metadata": {
    "scrolled": false
   },
   "outputs": [
    {
     "name": "stdout",
     "output_type": "stream",
     "text": [
      "Before show databases\n",
      "('c13',)\n",
      "('course',)\n",
      "('information_schema',)\n",
      "('mydb',)\n",
      "('mysql',)\n",
      "('performance_schema',)\n",
      "('sakila',)\n",
      "('sys',)\n",
      "('test',)\n",
      "('world',)\n",
      "Before show tables\n"
     ]
    }
   ],
   "source": [
    "# Usage I: Connect to mySQL without using specific databases\n",
    "import mysql.connector\n",
    "\n",
    "\n",
    "mydb = mysql.connector.connect(host=\"127.0.0.1\", user=\"root\", passwd=\"0000\")\n",
    "\n",
    "mycursor = mydb.cursor()\n",
    "\n",
    "print(\"Before show databases\")\n",
    "mycursor.execute(\"show databases\")\n",
    "for i in mycursor:\n",
    "    print(i)\n",
    "    \n",
    "print(\"Before show tables\")\n",
    "mycursor.execute(\"use test\")\n",
    "mycursor.execute(\"show tables\")\n",
    "for i in mycursor:\n",
    "    print(i)"
   ]
  },
  {
   "cell_type": "code",
   "execution_count": 3,
   "metadata": {},
   "outputs": [
    {
     "name": "stdout",
     "output_type": "stream",
     "text": [
      "(1, 'PENELOPE', 'GUINESS', datetime.datetime(2006, 2, 15, 4, 34, 33))\n",
      "(2, 'NICK', 'WAHLBERG', datetime.datetime(2006, 2, 15, 4, 34, 33))\n",
      "(3, 'ED', 'CHASE', datetime.datetime(2006, 2, 15, 4, 34, 33))\n",
      "(4, 'JENNIFER', 'DAVIS', datetime.datetime(2006, 2, 15, 4, 34, 33))\n",
      "(5, 'JOHNNY', 'LOLLOBRIGIDA', datetime.datetime(2006, 2, 15, 4, 34, 33))\n"
     ]
    }
   ],
   "source": [
    "mycursor.execute(\"use sakila\")\n",
    "mycursor.execute(\"select * from actor limit 5\")\n",
    "for i in mycursor:\n",
    "    print(i)"
   ]
  },
  {
   "cell_type": "code",
   "execution_count": 4,
   "metadata": {},
   "outputs": [
    {
     "name": "stdout",
     "output_type": "stream",
     "text": [
      "Before mysql\n",
      "(1, 'PENELOPE', 'GUINESS', datetime.datetime(2006, 2, 15, 4, 34, 33))\n",
      "(2, 'NICK', 'WAHLBERG', datetime.datetime(2006, 2, 15, 4, 34, 33))\n",
      "(3, 'ED', 'CHASE', datetime.datetime(2006, 2, 15, 4, 34, 33))\n",
      "(4, 'JENNIFER', 'DAVIS', datetime.datetime(2006, 2, 15, 4, 34, 33))\n",
      "(5, 'JOHNNY', 'LOLLOBRIGIDA', datetime.datetime(2006, 2, 15, 4, 34, 33))\n"
     ]
    }
   ],
   "source": [
    "# Usage II: connect to mySQL and use a specific database directly \n",
    "import mysql.connector\n",
    "\n",
    "print(\"Before mysql\")\n",
    "mydbcon = mysql.connector.connect(host=\"localhost\", user=\"root\", passwd=\"1234\", database=\"sakila\" )\n",
    "\n",
    "mycursor = mydbcon.cursor()\n",
    "mycursor.execute(\"select * from actor limit 5\")\n",
    "\n",
    "# Then you can consume your data in a for loop\n",
    "for i in mycursor:\n",
    "    print(i)\n",
    "    \n"
   ]
  },
  {
   "cell_type": "code",
   "execution_count": 5,
   "metadata": {},
   "outputs": [
    {
     "name": "stdout",
     "output_type": "stream",
     "text": [
      "(1, 'PENELOPE', 'GUINESS', datetime.datetime(2006, 2, 15, 4, 34, 33))\n"
     ]
    }
   ],
   "source": [
    "# you can also fetch the rows one by one by yourself\n",
    "mycursor.execute(\"select * from actor limit 10\")\n",
    "one_row = mycursor.fetchone()\n",
    "print(one_row)"
   ]
  },
  {
   "cell_type": "code",
   "execution_count": 6,
   "metadata": {},
   "outputs": [
    {
     "name": "stdout",
     "output_type": "stream",
     "text": [
      "[(1, 'PENELOPE', 'GUINESS', datetime.datetime(2006, 2, 15, 4, 34, 33)), (2, 'NICK', 'WAHLBERG', datetime.datetime(2006, 2, 15, 4, 34, 33)), (3, 'ED', 'CHASE', datetime.datetime(2006, 2, 15, 4, 34, 33)), (4, 'JENNIFER', 'DAVIS', datetime.datetime(2006, 2, 15, 4, 34, 33)), (5, 'JOHNNY', 'LOLLOBRIGIDA', datetime.datetime(2006, 2, 15, 4, 34, 33)), (6, 'BETTE', 'NICHOLSON', datetime.datetime(2006, 2, 15, 4, 34, 33)), (7, 'GRACE', 'MOSTEL', datetime.datetime(2006, 2, 15, 4, 34, 33)), (8, 'MATTHEW', 'JOHANSSON', datetime.datetime(2006, 2, 15, 4, 34, 33)), (9, 'JOE', 'SWANK', datetime.datetime(2006, 2, 15, 4, 34, 33)), (10, 'CHRISTIAN', 'GABLE', datetime.datetime(2006, 2, 15, 4, 34, 33))]\n"
     ]
    }
   ],
   "source": [
    "# you can also put all your results into a big data area, and do the processing your self.\n",
    "# However, this may results in the copying of large amount of data, and waste of large \n",
    "# memory area if the data you retrieve from database is big.  \n",
    "# So use this very careful, only if you do what you are doing\n",
    "\n",
    "# clean up all data in the cursor, if any left\n",
    "for _ in mycursor:\n",
    "    pass\n",
    "\n",
    "mycursor.execute(\"select * from actor limit 10\")\n",
    "result = mycursor.fetchall()\n",
    "print(result)\n"
   ]
  },
  {
   "cell_type": "code",
   "execution_count": null,
   "metadata": {},
   "outputs": [],
   "source": []
  }
 ],
 "metadata": {
  "kernelspec": {
   "display_name": "DBMS",
   "language": "python",
   "name": "dbms"
  },
  "language_info": {
   "codemirror_mode": {
    "name": "ipython",
    "version": 3
   },
   "file_extension": ".py",
   "mimetype": "text/x-python",
   "name": "python",
   "nbconvert_exporter": "python",
   "pygments_lexer": "ipython3",
   "version": "3.8.16"
  }
 },
 "nbformat": 4,
 "nbformat_minor": 2
}
